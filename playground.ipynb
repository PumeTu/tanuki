{
 "cells": [
  {
   "cell_type": "code",
   "execution_count": 1,
   "metadata": {},
   "outputs": [],
   "source": [
    "import torch\n",
    "import numpy as np"
   ]
  },
  {
   "cell_type": "code",
   "execution_count": 7,
   "metadata": {},
   "outputs": [],
   "source": [
    "x = np.array([[1, 1, 0, 0, 1, 1],\n",
    "            [0, 1, 1, 1, 1, 0], \n",
    "            [0, 0, 1, 1, 0, 0],\n",
    "            [0, 0, 1, 1, 0, 0],\n",
    "            [0, 1, 1, 1, 1, 0],\n",
    "            [1, 1, 0, 0, 1, 1]])\n",
    "f = np.array([[1, 0, 1], [0, 1, 0], [1, 0, 1]])"
   ]
  },
  {
   "cell_type": "code",
   "execution_count": null,
   "metadata": {},
   "outputs": [],
   "source": []
  }
 ],
 "metadata": {
  "kernelspec": {
   "display_name": "torch",
   "language": "python",
   "name": "python3"
  },
  "language_info": {
   "codemirror_mode": {
    "name": "ipython",
    "version": 3
   },
   "file_extension": ".py",
   "mimetype": "text/x-python",
   "name": "python",
   "nbconvert_exporter": "python",
   "pygments_lexer": "ipython3",
   "version": "3.10.8"
  },
  "orig_nbformat": 4,
  "vscode": {
   "interpreter": {
    "hash": "0fd9c079b301d5c1d96f6c7a20ab34c5e9bde27b5816a33ee609b2b139b26756"
   }
  }
 },
 "nbformat": 4,
 "nbformat_minor": 2
}
